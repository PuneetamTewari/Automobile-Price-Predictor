{
  "nbformat": 4,
  "nbformat_minor": 0,
  "metadata": {
    "colab": {
      "name": "Car Price Predictor (Neural Net using Keras).ipynb",
      "provenance": []
    },
    "kernelspec": {
      "name": "python3",
      "display_name": "Python 3"
    },
    "accelerator": "GPU"
  },
  "cells": [
    {
      "cell_type": "code",
      "metadata": {
        "id": "KMLP1PVT-iKh",
        "colab": {
          "base_uri": "https://localhost:8080/"
        },
        "outputId": "aa9c156a-4ca0-4262-cea3-19bfacecca1c"
      },
      "source": [
        "from google.colab import drive\n",
        "drive.mount('/content/gdrive')"
      ],
      "execution_count": 1,
      "outputs": [
        {
          "output_type": "stream",
          "text": [
            "Mounted at /content/gdrive\n"
          ],
          "name": "stdout"
        }
      ]
    },
    {
      "cell_type": "code",
      "metadata": {
        "id": "UR-ajNrjFVle",
        "colab": {
          "base_uri": "https://localhost:8080/"
        },
        "outputId": "45be9436-997f-4ed6-faf3-5c1679ad5956"
      },
      "source": [
        "cd \"/content/gdrive/My Drive/Colab_Notebooks\""
      ],
      "execution_count": 2,
      "outputs": [
        {
          "output_type": "stream",
          "text": [
            "/content/gdrive/My Drive/Colab_Notebooks\n"
          ],
          "name": "stdout"
        }
      ]
    },
    {
      "cell_type": "code",
      "metadata": {
        "colab": {
          "base_uri": "https://localhost:8080/"
        },
        "id": "6arvF9vnGB7k",
        "outputId": "0bad4a91-05d7-40f7-95f3-32cbef6af970"
      },
      "source": [
        "import pandas as pd\r\n",
        "from keras.models import Sequential\r\n",
        "from keras.layers import Dense\r\n",
        "from keras.wrappers.scikit_learn import KerasRegressor\r\n",
        "from sklearn.model_selection import cross_val_score\r\n",
        "from sklearn.model_selection import KFold\r\n",
        "\r\n",
        "# define base model\r\n",
        "def baseline_model():\r\n",
        "\t# create model\r\n",
        "\tmodel = Sequential()\r\n",
        "\tmodel.add(Dense(3, input_dim=3, kernel_initializer='normal', activation='relu'))\r\n",
        "\tmodel.add(Dense(1, kernel_initializer='normal'))\r\n",
        "\t# Compile model\r\n",
        "\tmodel.compile(loss='mean_squared_error', optimizer='adam')\r\n",
        "\treturn model\r\n",
        "\r\n",
        "#Features \r\n",
        "X = pd.read_csv(\"car data.csv\",usecols=[1,3,4])\r\n",
        "print('Features:','\\n\\n\\t',X.head(10))\r\n",
        "print('\\n\\n Dimentions of Feature:','\\n\\n\\t',X.shape)\r\n",
        "\r\n",
        "#Targets \r\n",
        "Y = pd.read_csv(\"car data.csv\",usecols=[2])\r\n",
        "print('\\n\\n Target values:','\\n\\n\\t',Y.head(10))\r\n",
        "print('\\n\\n Dimentions of Target:','\\n\\t',Y.shape, '\\n\\n')\r\n",
        "\r\n",
        "# evaluate model\r\n",
        "estimator = KerasRegressor(build_fn=baseline_model, epochs=100, batch_size=5, verbose=0)\r\n",
        "kfold = KFold(n_splits=10)\r\n",
        "results = cross_val_score(estimator, X, Y, cv=kfold)\r\n",
        "print(\"Baseline: %.2f (%.2f) MSE\" % (results.mean(), results.std()))"
      ],
      "execution_count": 4,
      "outputs": [
        {
          "output_type": "stream",
          "text": [
            "Features: \n",
            "\n",
            "\t    Year  Present_Price  Kms_Driven\n",
            "0  2014           5.59       27000\n",
            "1  2013           9.54       43000\n",
            "2  2017           9.85        6900\n",
            "3  2011           4.15        5200\n",
            "4  2014           6.87       42450\n",
            "5  2018           9.83        2071\n",
            "6  2015           8.12       18796\n",
            "7  2015           8.61       33429\n",
            "8  2016           8.89       20273\n",
            "9  2015           8.92       42367\n",
            "\n",
            "\n",
            " Dimentions of Feature: \n",
            "\n",
            "\t (301, 3)\n",
            "\n",
            "\n",
            " Target values: \n",
            "\n",
            "\t    Selling_Price\n",
            "0           3.35\n",
            "1           4.75\n",
            "2           7.25\n",
            "3           2.85\n",
            "4           4.60\n",
            "5           9.25\n",
            "6           6.75\n",
            "7           6.50\n",
            "8           8.75\n",
            "9           7.45\n",
            "\n",
            "\n",
            " Dimentions of Target: \n",
            "\t (301, 1) \n",
            "\n",
            "\n",
            "Baseline: -25.53 (23.77) MSE\n"
          ],
          "name": "stdout"
        }
      ]
    }
  ]
}