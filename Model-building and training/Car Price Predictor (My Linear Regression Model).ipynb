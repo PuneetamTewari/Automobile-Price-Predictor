{
 "cells": [
  {
   "cell_type": "markdown",
   "metadata": {},
   "source": [
    "# Loading and Viewing data\n"
   ]
  },
  {
   "cell_type": "code",
   "execution_count": 2,
   "metadata": {},
   "outputs": [
    {
     "name": "stdout",
     "output_type": "stream",
     "text": [
      "Features: \n",
      "\n",
      "\t    Year  Present_Price  Kms_Driven\n",
      "0  2014           5.59       27000\n",
      "1  2013           9.54       43000\n",
      "2  2017           9.85        6900\n",
      "3  2011           4.15        5200\n",
      "4  2014           6.87       42450\n",
      "5  2018           9.83        2071\n",
      "6  2015           8.12       18796\n",
      "7  2015           8.61       33429\n",
      "8  2016           8.89       20273\n",
      "9  2015           8.92       42367\n",
      "\n",
      "\n",
      " Dimentions of Feature: \n",
      "\n",
      "\t (301, 3)\n",
      "\n",
      "\n",
      " Target values: \n",
      "\n",
      "\t    Selling_Price\n",
      "0           3.35\n",
      "1           4.75\n",
      "2           7.25\n",
      "3           2.85\n",
      "4           4.60\n",
      "5           9.25\n",
      "6           6.75\n",
      "7           6.50\n",
      "8           8.75\n",
      "9           7.45\n",
      "\n",
      "\n",
      " Dimentions of Target: \n",
      "\t (301, 1) \n",
      "\n",
      "\n"
     ]
    }
   ],
   "source": [
    "import numpy as np\n",
    "from sklearn.model_selection import train_test_split\n",
    "from sklearn import metrics\n",
    "import pandas as pd\n",
    "from Multivariate_Linear_Regression import Linear_Regression_Model\n",
    "import matplotlib.pyplot as plt\n",
    "\n",
    "#Features \n",
    "data = pd.read_csv(\"car data.csv\",usecols=[1,3,4])\n",
    "print('Features:','\\n\\n\\t',data.head(10))\n",
    "print('\\n\\n Dimentions of Feature:','\\n\\n\\t',data.shape)\n",
    "\n",
    "#Targets \n",
    "data2 = pd.read_csv(\"car data.csv\",usecols=[2])\n",
    "print('\\n\\n Target values:','\\n\\n\\t',data2.head(10))\n",
    "print('\\n\\n Dimentions of Target:','\\n\\t',data2.shape, '\\n\\n')"
   ]
  },
  {
   "cell_type": "markdown",
   "metadata": {},
   "source": [
    "# Declaring Features and Target Variables \n",
    "# Splitting Training and Test Data\n"
   ]
  },
  {
   "cell_type": "code",
   "execution_count": 3,
   "metadata": {},
   "outputs": [
    {
     "name": "stdout",
     "output_type": "stream",
     "text": [
      "-----Shapes-----\n",
      "Training Data:  (210, 4) (210, 1)\n",
      "Testing Data:  (91, 4) (91, 1) \n",
      "\n",
      "\n"
     ]
    }
   ],
   "source": [
    "#Adding bias layer in the features\n",
    "bias_units = np.ones((301,1))\n",
    "data.insert(0, \"Bias\", bias_units, True)\n",
    "\n",
    "#Splitting the test data from the dataset first\n",
    "X_train, X_test, y_train, y_test = train_test_split(data, data2, test_size=0.30) \n",
    "\n",
    "#Dimenstions of the Split Dataset\n",
    "print('-----Shapes-----')\n",
    "print('Training Data: ', X_train.shape, y_train.shape)\n",
    "print('Testing Data: ', X_test.shape, y_test.shape, '\\n\\n')\n"
   ]
  },
  {
   "cell_type": "markdown",
   "metadata": {},
   "source": [
    "# Creating the model and calculating the inital cost function"
   ]
  },
  {
   "cell_type": "code",
   "execution_count": 4,
   "metadata": {},
   "outputs": [
    {
     "name": "stdout",
     "output_type": "stream",
     "text": [
      "-----Initial Cost Function------ \n",
      "\n",
      " 22.61195142857143 \n",
      "\n",
      "\n"
     ]
    }
   ],
   "source": [
    "#Creating the model\n",
    "Model = Linear_Regression_Model()\n",
    "\n",
    "#Initializing theta for calculating cost function\n",
    "initial_theta = np.zeros(np.shape(X_train))\n",
    "initial_theta = np.array(initial_theta)\n",
    "\n",
    "#converting to numpy arrays\n",
    "Xtr = np.array(X_train)\n",
    "ytr = np.array(y_train)\n",
    "\n",
    "Xte = np.array(X_test)\n",
    "yte = np.array(y_test)\n",
    "\n",
    "#Normalizing features of training dataset and calculating Cost Function\n",
    "normX_tr = Model.Normalize_Features(Xtr)\n",
    "costFunction = Model.CostFunction(normX_tr, ytr, initial_theta)\n",
    "print('-----Initial Cost Function------ \\n\\n',costFunction[-1], '\\n\\n')"
   ]
  },
  {
   "cell_type": "markdown",
   "metadata": {},
   "source": [
    "# Running Gradient Descent on the initial cost and plotting the descent curve"
   ]
  },
  {
   "cell_type": "code",
   "execution_count": 5,
   "metadata": {},
   "outputs": [
    {
     "name": "stdout",
     "output_type": "stream",
     "text": [
      "---------Gradient Descent----------\n",
      "\n",
      "Theta :  [-3.58627053 -2.79553158 -3.53569871  0.28070333]  | \tGradient :  15.919832983146001 \t | \tIteration : 0\n",
      "Theta :  [-3.58627053 -2.79553158 -3.53569871  0.28070333]  | \tGradient :  15.234705570515152 \t | \tIteration : 1\n",
      "Theta :  [-3.58627053 -2.79553158 -3.53569871  0.28070333]  | \tGradient :  14.872103224030063 \t | \tIteration : 2\n",
      "Theta :  [-3.58627053 -2.79553158 -3.53569871  0.28070333]  | \tGradient :  14.560951538944426 \t | \tIteration : 3\n",
      "Theta :  [-3.58627053 -2.79553158 -3.53569871  0.28070333]  | \tGradient :  14.284544947720514 \t | \tIteration : 4\n",
      "Theta :  [-3.58627053 -2.79553158 -3.53569871  0.28070333]  | \tGradient :  14.038546085771438 \t | \tIteration : 5\n",
      "Theta :  [-3.58627053 -2.79553158 -3.53569871  0.28070333]  | \tGradient :  13.819588270524266 \t | \tIteration : 6\n",
      "Theta :  [-3.58627053 -2.79553158 -3.53569871  0.28070333]  | \tGradient :  13.624698044796542 \t | \tIteration : 7\n",
      "Theta :  [-3.58627053 -2.79553158 -3.53569871  0.28070333]  | \tGradient :  13.451229876365826 \t | \tIteration : 8\n",
      "Theta :  [-3.58627053 -2.79553158 -3.53569871  0.28070333]  | \tGradient :  13.296829077486853 \t | \tIteration : 9\n",
      "Theta :  [-3.58627053 -2.79553158 -3.53569871  0.28070333]  | \tGradient :  13.159399787079813 \t | \tIteration : 10\n",
      "Theta :  [-3.58627053 -2.79553158 -3.53569871  0.28070333]  | \tGradient :  13.037076518555978 \t | \tIteration : 11\n",
      "Theta :  [-3.58627053 -2.79553158 -3.53569871  0.28070333]  | \tGradient :  12.92819883724035 \t | \tIteration : 12\n",
      "Theta :  [-3.58627053 -2.79553158 -3.53569871  0.28070333]  | \tGradient :  12.83128882132168 \t | \tIteration : 13\n",
      "Theta :  [-3.58627053 -2.79553158 -3.53569871  0.28070333]  | \tGradient :  12.74503100027077 \t | \tIteration : 14\n",
      "Theta :  [-3.58627053 -2.79553158 -3.53569871  0.28070333]  | \tGradient :  12.668254498402625 \t | \tIteration : 15\n",
      "Theta :  [-3.58627053 -2.79553158 -3.53569871  0.28070333]  | \tGradient :  12.599917141195366 \t | \tIteration : 16\n",
      "Theta :  [-3.58627053 -2.79553158 -3.53569871  0.28070333]  | \tGradient :  12.539091308622503 \t | \tIteration : 17\n",
      "Theta :  [-3.58627053 -2.79553158 -3.53569871  0.28070333]  | \tGradient :  12.484951343468692 \t | \tIteration : 18\n",
      "Theta :  [-3.58627053 -2.79553158 -3.53569871  0.28070333]  | \tGradient :  12.436762343707494 \t | \tIteration : 19\n",
      "Theta :  [-3.58627053 -2.79553158 -3.53569871  0.28070333]  | \tGradient :  12.393870186806707 \t | \tIteration : 20\n",
      "Theta :  [-3.58627053 -2.79553158 -3.53569871  0.28070333]  | \tGradient :  12.355692650549235 \t | \tIteration : 21\n",
      "Theta :  [-3.58627053 -2.79553158 -3.53569871  0.28070333]  | \tGradient :  12.321711509842169 \t | \tIteration : 22\n",
      "Theta :  [-3.58627053 -2.79553158 -3.53569871  0.28070333]  | \tGradient :  12.29146550223437 \t | \tIteration : 23\n",
      "Theta :  [-3.58627053 -2.79553158 -3.53569871  0.28070333]  | \tGradient :  12.264544066655516 \t | \tIteration : 24\n",
      "Theta :  [-3.58627053 -2.79553158 -3.53569871  0.28070333]  | \tGradient :  12.240581770384905 \t | \tIteration : 25\n",
      "Theta :  [-3.58627053 -2.79553158 -3.53569871  0.28070333]  | \tGradient :  12.219253348600848 \t | \tIteration : 26\n",
      "Theta :  [-3.58627053 -2.79553158 -3.53569871  0.28070333]  | \tGradient :  12.2002692891763 \t | \tIteration : 27\n",
      "Theta :  [-3.58627053 -2.79553158 -3.53569871  0.28070333]  | \tGradient :  12.183371902788293 \t | \tIteration : 28\n",
      "Theta :  [-3.58627053 -2.79553158 -3.53569871  0.28070333]  | \tGradient :  12.168331824995844 \t | \tIteration : 29\n",
      "Theta :  [-3.58627053 -2.79553158 -3.53569871  0.28070333]  | \tGradient :  12.154944902805047 \t | \tIteration : 30\n",
      "Theta :  [-3.58627053 -2.79553158 -3.53569871  0.28070333]  | \tGradient :  12.143029423458886 \t | \tIteration : 31\n",
      "Theta :  [-3.58627053 -2.79553158 -3.53569871  0.28070333]  | \tGradient :  12.13242364783505 \t | \tIteration : 32\n",
      "Theta :  [-3.58627053 -2.79553158 -3.53569871  0.28070333]  | \tGradient :  12.122983614969433 \t | \tIteration : 33\n",
      "Theta :  [-3.58627053 -2.79553158 -3.53569871  0.28070333]  | \tGradient :  12.114581187903644 \t | \tIteration : 34\n",
      "Theta :  [-3.58627053 -2.79553158 -3.53569871  0.28070333]  | \tGradient :  12.107102314330458 \t | \tIteration : 35\n",
      "Theta :  [-3.58627053 -2.79553158 -3.53569871  0.28070333]  | \tGradient :  12.100445478426918 \t | \tIteration : 36\n",
      "Theta :  [-3.58627053 -2.79553158 -3.53569871  0.28070333]  | \tGradient :  12.094520322859955 \t | \tIteration : 37\n",
      "Theta :  [-3.58627053 -2.79553158 -3.53569871  0.28070333]  | \tGradient :  12.089246422259416 \t | \tIteration : 38\n",
      "Theta :  [-3.58627053 -2.79553158 -3.53569871  0.28070333]  | \tGradient :  12.084552191509328 \t | \tIteration : 39\n",
      "Theta :  [-3.58627053 -2.79553158 -3.53569871  0.28070333]  | \tGradient :  12.080373914038438 \t | \tIteration : 40\n",
      "Theta :  [-3.58627053 -2.79553158 -3.53569871  0.28070333]  | \tGradient :  12.076654876919818 \t | \tIteration : 41\n",
      "Theta :  [-3.58627053 -2.79553158 -3.53569871  0.28070333]  | \tGradient :  12.073344601039201 \t | \tIteration : 42\n",
      "Theta :  [-3.58627053 -2.79553158 -3.53569871  0.28070333]  | \tGradient :  12.070398155882195 \t | \tIteration : 43\n",
      "Theta :  [-3.58627053 -2.79553158 -3.53569871  0.28070333]  | \tGradient :  12.067775549639347 \t | \tIteration : 44\n",
      "Theta :  [-3.58627053 -2.79553158 -3.53569871  0.28070333]  | \tGradient :  12.065441186349895 \t | \tIteration : 45\n",
      "Theta :  [-3.58627053 -2.79553158 -3.53569871  0.28070333]  | \tGradient :  12.063363382715709 \t | \tIteration : 46\n",
      "Theta :  [-3.58627053 -2.79553158 -3.53569871  0.28070333]  | \tGradient :  12.061513938026469 \t | \tIteration : 47\n",
      "Theta :  [-3.58627053 -2.79553158 -3.53569871  0.28070333]  | \tGradient :  12.059867751357933 \t | \tIteration : 48\n",
      "Theta :  [-3.58627053 -2.79553158 -3.53569871  0.28070333]  | \tGradient :  12.058402480847514 \t | \tIteration : 49\n",
      "Theta :  [-3.58627053 -2.79553158 -3.53569871  0.28070333]  | \tGradient :  12.057098240421656 \t | \tIteration : 50\n",
      "Theta :  [-3.58627053 -2.79553158 -3.53569871  0.28070333]  | \tGradient :  12.055937329858672 \t | \tIteration : 51\n",
      "Theta :  [-3.58627053 -2.79553158 -3.53569871  0.28070333]  | \tGradient :  12.054903994522709 \t | \tIteration : 52\n",
      "Theta :  [-3.58627053 -2.79553158 -3.53569871  0.28070333]  | \tGradient :  12.053984211507373 \t | \tIteration : 53\n",
      "Theta :  [-3.58627053 -2.79553158 -3.53569871  0.28070333]  | \tGradient :  12.0531654992863 \t | \tIteration : 54\n",
      "Theta :  [-3.58627053 -2.79553158 -3.53569871  0.28070333]  | \tGradient :  12.052436748286587 \t | \tIteration : 55\n",
      "Theta :  [-3.58627053 -2.79553158 -3.53569871  0.28070333]  | \tGradient :  12.051788070085422 \t | \tIteration : 56\n",
      "Theta :  [-3.58627053 -2.79553158 -3.53569871  0.28070333]  | \tGradient :  12.051210663182838 \t | \tIteration : 57\n",
      "Theta :  [-3.58627053 -2.79553158 -3.53569871  0.28070333]  | \tGradient :  12.05069669352851 \t | \tIteration : 58\n",
      "Theta :  [-3.58627053 -2.79553158 -3.53569871  0.28070333]  | \tGradient :  12.050239188180978 \t | \tIteration : 59\n",
      "Theta :  [-3.58627053 -2.79553158 -3.53569871  0.28070333]  | \tGradient :  12.049831940655555 \t | \tIteration : 60\n",
      "Theta :  [-3.58627053 -2.79553158 -3.53569871  0.28070333]  | \tGradient :  12.049469426676522 \t | \tIteration : 61\n",
      "Theta :  [-3.58627053 -2.79553158 -3.53569871  0.28070333]  | \tGradient :  12.04914672918945 \t | \tIteration : 62\n",
      "Theta :  [-3.58627053 -2.79553158 -3.53569871  0.28070333]  | \tGradient :  12.04885947161629 \t | \tIteration : 63\n",
      "Theta :  [-3.58627053 -2.79553158 -3.53569871  0.28070333]  | \tGradient :  12.048603758446873 \t | \tIteration : 64\n",
      "Theta :  [-3.58627053 -2.79553158 -3.53569871  0.28070333]  | \tGradient :  12.048376122360523 \t | \tIteration : 65\n",
      "Theta :  [-3.58627053 -2.79553158 -3.53569871  0.28070333]  | \tGradient :  12.04817347716007 \t | \tIteration : 66\n",
      "Theta :  [-3.58627053 -2.79553158 -3.53569871  0.28070333]  | \tGradient :  12.047993075879177 \t | \tIteration : 67\n",
      "Theta :  [-3.58627053 -2.79553158 -3.53569871  0.28070333]  | \tGradient :  12.047832473494548 \t | \tIteration : 68\n",
      "Theta :  [-3.58627053 -2.79553158 -3.53569871  0.28070333]  | \tGradient :  12.047689493736744 \t | \tIteration : 69\n",
      "Theta :  [-3.58627053 -2.79553158 -3.53569871  0.28070333]  | \tGradient :  12.047562199549086 \t | \tIteration : 70\n",
      "Theta :  [-3.58627053 -2.79553158 -3.53569871  0.28070333]  | \tGradient :  12.04744886679369 \t | \tIteration : 71\n",
      "Theta :  [-3.58627053 -2.79553158 -3.53569871  0.28070333]  | \tGradient :  12.04734796084771 \t | \tIteration : 72\n",
      "Theta :  [-3.58627053 -2.79553158 -3.53569871  0.28070333]  | \tGradient :  12.047258115772095 \t | \tIteration : 73\n",
      "Theta :  [-3.58627053 -2.79553158 -3.53569871  0.28070333]  | \tGradient :  12.047178115770073 \t | \tIteration : 74\n",
      "Theta :  [-3.58627053 -2.79553158 -3.53569871  0.28070333]  | \tGradient :  12.047106878683703 \t | \tIteration : 75\n",
      "Theta :  [-3.58627053 -2.79553158 -3.53569871  0.28070333]  | \tGradient :  12.047043441304467 \t | \tIteration : 76\n",
      "Theta :  [-3.58627053 -2.79553158 -3.53569871  0.28070333]  | \tGradient :  12.046986946298487 \t | \tIteration : 77\n",
      "Theta :  [-3.58627053 -2.79553158 -3.53569871  0.28070333]  | \tGradient :  12.04693663056896 \t | \tIteration : 78\n",
      "Theta :  [-3.58627053 -2.79553158 -3.53569871  0.28070333]  | \tGradient :  12.046891814897675 \t | \tIteration : 79\n",
      "Theta :  [-3.58627053 -2.79553158 -3.53569871  0.28070333]  | \tGradient :  12.046851894725254 \t | \tIteration : 80\n",
      "Theta :  [-3.58627053 -2.79553158 -3.53569871  0.28070333]  | \tGradient :  12.04681633194469 \t | \tIteration : 81\n",
      "Theta :  [-3.58627053 -2.79553158 -3.53569871  0.28070333]  | \tGradient :  12.046784647597024 \t | \tIteration : 82\n",
      "Theta :  [-3.58627053 -2.79553158 -3.53569871  0.28070333]  | \tGradient :  12.046756415369867 \t | \tIteration : 83\n",
      "Theta :  [-3.58627053 -2.79553158 -3.53569871  0.28070333]  | \tGradient :  12.046731255810535 \t | \tIteration : 84\n",
      "Theta :  [-3.58627053 -2.79553158 -3.53569871  0.28070333]  | \tGradient :  12.046708831175279 \t | \tIteration : 85\n",
      "Theta :  [-3.58627053 -2.79553158 -3.53569871  0.28070333]  | \tGradient :  12.046688840844743 \t | \tIteration : 86\n",
      "Theta :  [-3.58627053 -2.79553158 -3.53569871  0.28070333]  | \tGradient :  12.046671017243257 \t | \tIteration : 87\n",
      "Theta :  [-3.58627053 -2.79553158 -3.53569871  0.28070333]  | \tGradient :  12.046655122206719 \t | \tIteration : 88\n",
      "Theta :  [-3.58627053 -2.79553158 -3.53569871  0.28070333]  | \tGradient :  12.046640943749729 \t | \tIteration : 89\n",
      "Theta :  [-3.58627053 -2.79553158 -3.53569871  0.28070333]  | \tGradient :  12.04662829318805 \t | \tIteration : 90\n",
      "Theta :  [-3.58627053 -2.79553158 -3.53569871  0.28070333]  | \tGradient :  12.046617002577392 \t | \tIteration : 91\n",
      "Theta :  [-3.58627053 -2.79553158 -3.53569871  0.28070333]  | \tGradient :  12.046606922433652 \t | \tIteration : 92\n",
      "Theta :  [-3.58627053 -2.79553158 -3.53569871  0.28070333]  | \tGradient :  12.04659791970386 \t | \tIteration : 93\n",
      "Theta :  [-3.58627053 -2.79553158 -3.53569871  0.28070333]  | \tGradient :  12.046589875960057 \t | \tIteration : 94\n",
      "Theta :  [-3.58627053 -2.79553158 -3.53569871  0.28070333]  | \tGradient :  12.046582685791707 \t | \tIteration : 95\n",
      "Theta :  [-3.58627053 -2.79553158 -3.53569871  0.28070333]  | \tGradient :  12.046576255374912 \t | \tIteration : 96\n",
      "Theta :  [-3.58627053 -2.79553158 -3.53569871  0.28070333]  | \tGradient :  12.046570501198726 \t | \tIteration : 97\n",
      "Theta :  [-3.58627053 -2.79553158 -3.53569871  0.28070333]  | \tGradient :  12.046565348931646 \t | \tIteration : 98\n",
      "Theta :  [-3.58627053 -2.79553158 -3.53569871  0.28070333]  | \tGradient :  12.046560732412596 \t | \tIteration : 99\n",
      "Theta :  [-3.58627053 -2.79553158 -3.53569871  0.28070333]  | \tGradient :  12.046556592752838 \t | \tIteration : 100\n",
      "Theta :  [-3.58627053 -2.79553158 -3.53569871  0.28070333]  | \tGradient :  12.04655287753661 \t | \tIteration : 101\n",
      "Theta :  [-3.58627053 -2.79553158 -3.53569871  0.28070333]  | \tGradient :  12.04654954010961 \t | \tIteration : 102\n",
      "Theta :  [-3.58627053 -2.79553158 -3.53569871  0.28070333]  | \tGradient :  12.046546538945739 \t | \tIteration : 103\n",
      "Theta :  [-3.58627053 -2.79553158 -3.53569871  0.28070333]  | \tGradient :  12.046543837083387 \t | \tIteration : 104\n",
      "Theta :  [-3.58627053 -2.79553158 -3.53569871  0.28070333]  | \tGradient :  12.046541401623697 \t | \tIteration : 105\n",
      "Theta :  [-3.58627053 -2.79553158 -3.53569871  0.28070333]  | \tGradient :  12.046539203284045 \t | \tIteration : 106\n",
      "Theta :  [-3.58627053 -2.79553158 -3.53569871  0.28070333]  | \tGradient :  12.046537216000488 \t | \tIteration : 107\n",
      "Theta :  [-3.58627053 -2.79553158 -3.53569871  0.28070333]  | \tGradient :  12.046535416574006 \t | \tIteration : 108\n",
      "Theta :  [-3.58627053 -2.79553158 -3.53569871  0.28070333]  | \tGradient :  12.046533784355606 \t | \tIteration : 109\n",
      "Theta :  [-3.58627053 -2.79553158 -3.53569871  0.28070333]  | \tGradient :  12.046532300965985 \t | \tIteration : 110\n",
      "Theta :  [-3.58627053 -2.79553158 -3.53569871  0.28070333]  | \tGradient :  12.046530950046062 \t | \tIteration : 111\n",
      "Theta :  [-3.58627053 -2.79553158 -3.53569871  0.28070333]  | \tGradient :  12.046529717034948 \t | \tIteration : 112\n",
      "Theta :  [-3.58627053 -2.79553158 -3.53569871  0.28070333]  | \tGradient :  12.046528588972258 \t | \tIteration : 113\n",
      "Theta :  [-3.58627053 -2.79553158 -3.53569871  0.28070333]  | \tGradient :  12.046527554322198 \t | \tIteration : 114\n",
      "Theta :  [-3.58627053 -2.79553158 -3.53569871  0.28070333]  | \tGradient :  12.046526602816952 \t | \tIteration : 115\n",
      "Theta :  [-3.58627053 -2.79553158 -3.53569871  0.28070333]  | \tGradient :  12.046525725317373 \t | \tIteration : 116\n",
      "Theta :  [-3.58627053 -2.79553158 -3.53569871  0.28070333]  | \tGradient :  12.046524913688845 \t | \tIteration : 117\n",
      "Theta :  [-3.58627053 -2.79553158 -3.53569871  0.28070333]  | \tGradient :  12.046524160690906 \t | \tIteration : 118\n",
      "Theta :  [-3.58627053 -2.79553158 -3.53569871  0.28070333]  | \tGradient :  12.046523459878959 \t | \tIteration : 119\n",
      "Theta :  [-3.58627053 -2.79553158 -3.53569871  0.28070333]  | \tGradient :  12.046522805516776 \t | \tIteration : 120\n",
      "Theta :  [-3.58627053 -2.79553158 -3.53569871  0.28070333]  | \tGradient :  12.046522192498674 \t | \tIteration : 121\n",
      "Theta :  [-3.58627053 -2.79553158 -3.53569871  0.28070333]  | \tGradient :  12.046521616280168 \t | \tIteration : 122\n",
      "Theta :  [-3.58627053 -2.79553158 -3.53569871  0.28070333]  | \tGradient :  12.046521072816285 \t | \tIteration : 123\n",
      "Theta :  [-3.58627053 -2.79553158 -3.53569871  0.28070333]  | \tGradient :  12.046520558506671 \t | \tIteration : 124\n",
      "Theta :  [-3.58627053 -2.79553158 -3.53569871  0.28070333]  | \tGradient :  12.04652007014674 \t | \tIteration : 125\n",
      "Theta :  [-3.58627053 -2.79553158 -3.53569871  0.28070333]  | \tGradient :  12.046519604884129 \t | \tIteration : 126\n",
      "Theta :  [-3.58627053 -2.79553158 -3.53569871  0.28070333]  | \tGradient :  12.046519160180019 \t | \tIteration : 127\n",
      "Theta :  [-3.58627053 -2.79553158 -3.53569871  0.28070333]  | \tGradient :  12.046518733774642 \t | \tIteration : 128\n",
      "Theta :  [-3.58627053 -2.79553158 -3.53569871  0.28070333]  | \tGradient :  12.04651832365663 \t | \tIteration : 129\n",
      "Theta :  [-3.58627053 -2.79553158 -3.53569871  0.28070333]  | \tGradient :  12.046517928035687 \t | \tIteration : 130\n",
      "Theta :  [-3.58627053 -2.79553158 -3.53569871  0.28070333]  | \tGradient :  12.046517545318327 \t | \tIteration : 131\n",
      "Theta :  [-3.58627053 -2.79553158 -3.53569871  0.28070333]  | \tGradient :  12.046517174086194 \t | \tIteration : 132\n",
      "Theta :  [-3.58627053 -2.79553158 -3.53569871  0.28070333]  | \tGradient :  12.04651681307685 \t | \tIteration : 133\n",
      "Theta :  [-3.58627053 -2.79553158 -3.53569871  0.28070333]  | \tGradient :  12.046516461166629 \t | \tIteration : 134\n",
      "Theta :  [-3.58627053 -2.79553158 -3.53569871  0.28070333]  | \tGradient :  12.04651611735536 \t | \tIteration : 135\n",
      "Theta :  [-3.58627053 -2.79553158 -3.53569871  0.28070333]  | \tGradient :  12.046515780752824 \t | \tIteration : 136\n",
      "Theta :  [-3.58627053 -2.79553158 -3.53569871  0.28070333]  | \tGradient :  12.046515450566632 \t | \tIteration : 137\n",
      "Theta :  [-3.58627053 -2.79553158 -3.53569871  0.28070333]  | \tGradient :  12.046515126091522 \t | \tIteration : 138\n",
      "Theta :  [-3.58627053 -2.79553158 -3.53569871  0.28070333]  | \tGradient :  12.04651480669974 \t | \tIteration : 139\n",
      "Theta :  [-3.58627053 -2.79553158 -3.53569871  0.28070333]  | \tGradient :  12.046514491832525 \t | \tIteration : 140\n",
      "Theta :  [-3.58627053 -2.79553158 -3.53569871  0.28070333]  | \tGradient :  12.046514180992567 \t | \tIteration : 141\n",
      "Theta :  [-3.58627053 -2.79553158 -3.53569871  0.28070333]  | \tGradient :  12.046513873737148 \t | \tIteration : 142\n",
      "Theta :  [-3.58627053 -2.79553158 -3.53569871  0.28070333]  | \tGradient :  12.04651356967231 \t | \tIteration : 143\n",
      "Theta :  [-3.58627053 -2.79553158 -3.53569871  0.28070333]  | \tGradient :  12.046513268447324 \t | \tIteration : 144\n",
      "Theta :  [-3.58627053 -2.79553158 -3.53569871  0.28070333]  | \tGradient :  12.046512969750054 \t | \tIteration : 145\n",
      "Theta :  [-3.58627053 -2.79553158 -3.53569871  0.28070333]  | \tGradient :  12.046512673302638 \t | \tIteration : 146\n",
      "Theta :  [-3.58627053 -2.79553158 -3.53569871  0.28070333]  | \tGradient :  12.046512378857782 \t | \tIteration : 147\n",
      "Theta :  [-3.58627053 -2.79553158 -3.53569871  0.28070333]  | \tGradient :  12.046512086195376 \t | \tIteration : 148\n",
      "Theta :  [-3.58627053 -2.79553158 -3.53569871  0.28070333]  | \tGradient :  12.046511795119494 \t | \tIteration : 149\n"
     ]
    },
    {
     "data": {
      "image/png": "[encoded data removed]",
      "text/plain": [
       "<Figure size 432x288 with 1 Axes>"
      ]
     },
     "metadata": {
      "needs_background": "light"
     },
     "output_type": "display_data"
    }
   ],
   "source": [
    "#Performing gradient descent on the data\n",
    "theta, J_history = Model.GradientDescent(normX_tr, ytr, initial_theta, 0.21, 150)\n",
    "print('---------Gradient Descent----------\\n')\n",
    "for i in range(150):\n",
    "\tprint('Theta : ', theta[i], ' | \\tGradient : ', J_history[i], '\\t | \\tIteration :', i)\n",
    "\n",
    "#plotting the gradient\n",
    "plt.plot(J_history)\n",
    "plt.ylabel('J(theta)')\n",
    "plt.xlabel('iterations')\n",
    "plt.show()"
   ]
  },
  {
   "cell_type": "markdown",
   "metadata": {},
   "source": [
    "# Making prediction on the test set with our optimized values of theta and plotting the fit"
   ]
  },
  {
   "cell_type": "code",
   "execution_count": 6,
   "metadata": {},
   "outputs": [
    {
     "name": "stdout",
     "output_type": "stream",
     "text": [
      "\n",
      "\n",
      "\n",
      "-----------Predictions------------\n",
      "\n",
      "[3.2162892802448617, 3.50432893278757, 3.5025048367946985, 3.1365510808401043, 3.2621143197277758, 3.409764428599149, 3.5033273127622504, 3.379015699133906, 3.0694279321329483, 3.21761323659036, 3.0656724356959693, 3.5809863348138324, 3.048584582503115, 3.166462916911813, 3.1454445429983906, 3.0024474253853803, 4.06752884548289, 3.4012152038937122, 3.5128743908030935, 3.097508282769894, 3.6451611616435673, 3.502385308980273, 3.334459646145706, 3.1582476825232066, 3.4438063433722035, 3.263865331649225, 3.744099297759013, 3.208520996807498, 3.1902073008225313, 3.3770057158283158, 3.3730904992273256, 3.262038026958032, 3.05638034629093, 3.1330657795301153, 3.2964853060844828, 3.140504983056717, 3.0983578949296637, 3.0090501718940033, 3.602358961419575, 3.191779849393099, 3.183820193307975, 3.876233864727034, 3.099421964668072, 3.1668189431492046, 3.301027203135883, 3.0177995019604884, 3.6287030863254, 3.3257583996587865, 3.0726022790223495, 3.4538095821016745, 3.1679022854577013, 3.122306716031768, 3.3013274271100426, 3.166437835070566, 3.155712437363781, 3.0270791643195487, 3.116099464957951, 3.336165292706797, 3.299150797227858, 3.6026916128490027, 7.205145390590096, 3.124577764819054, 3.014890875555448, 3.1556424474249063, 3.102438257060841, 3.124081025098298, 3.2358340783058694, 3.418870735106837, 3.2169504842493097, 3.3316372377903836, 3.242254631452571, 3.7749635031587117, 3.0973958752033077, 3.208191454427076, 3.275516568313507, 3.0491045701168176, 3.2151956599669065, 3.4676841751192344, 3.2829920672736357, 3.4765749811861104, 3.3174256868829586, 3.359274811834449, 3.7552598494829783, 3.12351588414065, 3.393294474549662, 3.375972514754966, 4.191191572050007, 4.134973255208342, 3.1320987480894718, 3.1160156850191925, 3.1583845133684645] \n",
      "\n",
      "\n",
      " Shape:  (91,)\n"
     ]
    },
    {
     "data": {
      "image/png": "[encoded data removed]",
      "text/plain": [
       "<Figure size 432x288 with 1 Axes>"
      ]
     },
     "metadata": {
      "needs_background": "light"
     },
     "output_type": "display_data"
    }
   ],
   "source": [
    "#making the predictions using the optimized values of theta\n",
    "normX_te = Model.Normalize_Features(Xte)\n",
    "predictions = Model.predict(normX_te, theta)\n",
    "print('\\n\\n\\n-----------Predictions------------\\n')\n",
    "print(predictions, '\\n\\n\\n Shape: ', np.shape(predictions))\n",
    "\n",
    "#Plotting the predictions\n",
    "plt.scatter(yte, predictions)\n",
    "plt.show()\n"
   ]
  },
  {
   "cell_type": "markdown",
   "metadata": {},
   "source": [
    "# Evaluating the model using mean squared error"
   ]
  },
  {
   "cell_type": "code",
   "execution_count": 7,
   "metadata": {},
   "outputs": [
    {
     "name": "stdout",
     "output_type": "stream",
     "text": [
      "\n",
      "\n",
      "Mean Squared Error:  5.638784317309992\n"
     ]
    }
   ],
   "source": [
    "#Evaluating the predictions\n",
    "accuracy = np.sqrt(metrics.mean_squared_error(yte, predictions))\n",
    "print('\\n\\nMean Squared Error: ', accuracy)"
   ]
  },
  {
   "cell_type": "code",
   "execution_count": null,
   "metadata": {},
   "outputs": [],
   "source": []
  }
 ],
 "metadata": {
  "kernelspec": {
   "display_name": "Python 3",
   "language": "python",
   "name": "python3"
  },
  "language_info": {
   "codemirror_mode": {
    "name": "ipython",
    "version": 3
   },
   "file_extension": ".py",
   "mimetype": "text/x-python",
   "name": "python",
   "nbconvert_exporter": "python",
   "pygments_lexer": "ipython3",
   "version": "3.8.1"
  }
 },
 "nbformat": 4,
 "nbformat_minor": 4
}
