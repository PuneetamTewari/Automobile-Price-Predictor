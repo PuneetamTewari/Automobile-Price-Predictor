{
 "cells": [
  {
   "cell_type": "code",
   "execution_count": 3,
   "metadata": {},
   "outputs": [
    {
     "name": "stdout",
     "output_type": "stream",
     "text": [
      "Features: \n",
      "\n",
      "\t    Year  Present_Price  Kms_Driven\n",
      "0  2014           5.59       27000\n",
      "1  2013           9.54       43000\n",
      "2  2017           9.85        6900\n",
      "3  2011           4.15        5200\n",
      "4  2014           6.87       42450\n",
      "5  2018           9.83        2071\n",
      "6  2015           8.12       18796\n",
      "7  2015           8.61       33429\n",
      "8  2016           8.89       20273\n",
      "9  2015           8.92       42367\n",
      "\n",
      "\n",
      " Dimentions of Feature: \n",
      "\n",
      "\t (301, 3)\n",
      "\n",
      "\n",
      " Target values: \n",
      "\n",
      "\t    Selling_Price\n",
      "0           3.35\n",
      "1           4.75\n",
      "2           7.25\n",
      "3           2.85\n",
      "4           4.60\n",
      "5           9.25\n",
      "6           6.75\n",
      "7           6.50\n",
      "8           8.75\n",
      "9           7.45\n",
      "\n",
      "\n",
      " Dimentions of Target: \n",
      "\t (301, 1) \n",
      "\n",
      "\n",
      "-----Shapes-----\n",
      "Training Data:  (210, 3) (210, 1)\n",
      "Testing Data:  (91, 3) (91, 1) \n",
      "\n",
      "\n",
      "-------Predictions--------\n",
      " [ 1.45  9.65  2.9   7.45  7.45  5.8   0.2   4.5   2.    2.85 10.9   5.25\n",
      "  4.5   4.    6.7   7.25 19.75  2.9   3.95  3.75  5.5   1.11  6.85  4.5\n",
      "  6.6   0.48  0.35  4.75 23.    2.    0.6   0.45  5.2   0.45  1.35  5.25\n",
      "  0.4   1.15  0.45  4.75  3.51 23.    3.95  6.25  0.6   3.51  4.4   4.75\n",
      "  0.9   4.5   3.9   3.95  3.65  8.99 14.5   0.25  2.    0.75  0.42  3.9\n",
      "  5.65  0.35  0.65  0.45  1.25  3.8   0.45  5.3   9.65  4.75  1.95  0.75\n",
      "  5.5   1.25 11.75  0.55  0.2   0.65  0.75  1.25  3.    3.25  0.75  0.75\n",
      "  0.42  6.    0.45  1.25  4.75  0.65  0.3 ] \n",
      "\n",
      "\n",
      "\n",
      "Model Evaluation Score (On Training Data):  1.0\n",
      "\n",
      "Model Evaluation Score (On Testing Data):  0.9455129023698033\n"
     ]
    },
    {
     "data": {
      "image/png": "[encoded data removed]",
      "text/plain": [
       "<Figure size 432x288 with 1 Axes>"
      ]
     },
     "metadata": {
      "needs_background": "light"
     },
     "output_type": "display_data"
    }
   ],
   "source": [
    "import numpy as np\n",
    "from sklearn.model_selection import train_test_split\n",
    "import pandas as pd\n",
    "import matplotlib.pyplot as plt\n",
    "from sklearn.tree import DecisionTreeRegressor  \n",
    "import pickle\n",
    "\n",
    "#Features \n",
    "data = pd.read_csv(\"car data.csv\",usecols=[1,3,4])\n",
    "print('Features:','\\n\\n\\t',data.head(10))\n",
    "print('\\n\\n Dimentions of Feature:','\\n\\n\\t',data.shape)\n",
    "\n",
    "#Targets \n",
    "data2 = pd.read_csv(\"car data.csv\",usecols=[2])\n",
    "print('\\n\\n Target values:','\\n\\n\\t',data2.head(10))\n",
    "print('\\n\\n Dimentions of Target:','\\n\\t',data2.shape, '\\n\\n')\n",
    "\n",
    "#Splitting the test data from the dataset first\n",
    "X_train, X_test, y_train, y_test = train_test_split(data, data2, test_size=0.30) \n",
    "\n",
    "#Dimenstions of the Split Dataset\n",
    "print('-----Shapes-----')\n",
    "print('Training Data: ', X_train.shape, y_train.shape)\n",
    "print('Testing Data: ', X_test.shape, y_test.shape, '\\n\\n')\n",
    "\n",
    "#Creating the model\n",
    "Model = DecisionTreeRegressor(random_state = 0)\n",
    "\n",
    "#converting to numpy arrays\n",
    "Xtr = np.array(X_train)\n",
    "ytr = np.array(y_train)\n",
    "\n",
    "Xte = np.array(X_test)\n",
    "yte = np.array(y_test)\n",
    "\n",
    "#Fitting the model to the data\n",
    "Model.fit(Xtr, ytr)\n",
    "\n",
    "#Making Predictions on the fitted model\n",
    "predictions = Model.predict(Xte)\n",
    "print('-------Predictions--------\\n',predictions,'\\n')\n",
    "\n",
    "#Evaluating the model's performance\n",
    "r_square = Model.score(Xtr, ytr)\n",
    "print('\\n\\nModel Evaluation Score (On Training Data): ', r_square)\n",
    "r_square_testD = Model.score(Xte, yte)\n",
    "print('\\nModel Evaluation Score (On Testing Data): ', r_square_testD)\n",
    "\n",
    "#Plotting the predictions\n",
    "plt.scatter(yte, predictions)\n",
    "plt.show()"
   ]
  },
  {
   "cell_type": "code",
   "execution_count": 4,
   "metadata": {},
   "outputs": [],
   "source": [
    "#Saving the model for future use\n",
    "filename = 'automobile-price-prediction-DTRegressor-model.pkl'\n",
    "pickle.dump(Model, open(filename, 'wb'))"
   ]
  }
 ],
 "metadata": {
  "kernelspec": {
   "display_name": "Python 3",
   "language": "python",
   "name": "python3"
  },
  "language_info": {
   "codemirror_mode": {
    "name": "ipython",
    "version": 3
   },
   "file_extension": ".py",
   "mimetype": "text/x-python",
   "name": "python",
   "nbconvert_exporter": "python",
   "pygments_lexer": "ipython3",
   "version": "3.8.1"
  }
 },
 "nbformat": 4,
 "nbformat_minor": 4
}
